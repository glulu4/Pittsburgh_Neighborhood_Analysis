{
 "cells": [
  {
   "cell_type": "code",
   "execution_count": null,
   "metadata": {},
   "outputs": [],
   "source": [
    "import pandas as pd\n",
    "\n",
    "pub = pd.read_csv(\"Public_safety.csv\", sep=\",\")\n",
    "\n",
    "\n",
    "pub[\"Combined Crime Score\"] = pub[\"Part 1 Crime per 100 Persons (2010)\"]*2 + pub[\"Part 2 Crime per 100 Persons (2010)\"]\n",
    "\n",
    "top30_pub = pub[[\"Neighborhood\" , \"Part 1 Crime per 100 Persons (2010)\",\"Part 2 Crime per 100 Persons (2010)\", \"Combined Crime Score\" ]].sort_values(\"Combined Crime Score\", ascending = True).head(30)\n",
    "top30_pub\n",
    "\n",
    "\n",
    "\n"
   ]
  },
  {
   "cell_type": "markdown",
   "metadata": {},
   "source": [
    "This code is what gives us our overall crime score. We used the categories \"Part 1 Crime per 100 Persons (2010)\" and \"Part 2 Crime per 100 Persons (2010)\". Part 1 is violent crime like murder and assault, and part 2 represents non-violent crimes like theft. Because we wanted violent crime to be weighted more heavily, we doubled the part 1 scores before combining them with the non-violent data. "
   ]
  }
 ],
 "metadata": {
  "kernelspec": {
   "display_name": "Python 3",
   "language": "python",
   "name": "python3"
  },
  "language_info": {
   "codemirror_mode": {
    "name": "ipython",
    "version": 3
   },
   "file_extension": ".py",
   "mimetype": "text/x-python",
   "name": "python",
   "nbconvert_exporter": "python",
   "pygments_lexer": "ipython3",
   "version": "3.8.3"
  }
 },
 "nbformat": 4,
 "nbformat_minor": 4
}
